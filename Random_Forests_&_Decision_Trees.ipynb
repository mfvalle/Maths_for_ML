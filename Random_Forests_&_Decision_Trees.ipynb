{
  "nbformat": 4,
  "nbformat_minor": 0,
  "metadata": {
    "colab": {
      "provenance": [],
      "authorship_tag": "ABX9TyMRdQ66BQM2cXUEnQ2FPKz9",
      "include_colab_link": true
    },
    "kernelspec": {
      "name": "python3",
      "display_name": "Python 3"
    },
    "language_info": {
      "name": "python"
    }
  },
  "cells": [
    {
      "cell_type": "markdown",
      "metadata": {
        "id": "view-in-github",
        "colab_type": "text"
      },
      "source": [
        "<a href=\"https://colab.research.google.com/github/mfvalle/Maths_for_MachineLearning/blob/main/Random_Forests_%26_Decision_Trees.ipynb\" target=\"_parent\"><img src=\"https://colab.research.google.com/assets/colab-badge.svg\" alt=\"Open In Colab\"/></a>"
      ]
    },
    {
      "cell_type": "code",
      "source": [
        "!git clone https://github.com/mfvalle/Maths_for_MachineLearning.git"
      ],
      "metadata": {
        "colab": {
          "base_uri": "https://localhost:8080/"
        },
        "id": "Bt1slcIxPHni",
        "outputId": "7c63d223-1dff-4060-f268-50ed80ddc5f1"
      },
      "execution_count": 2,
      "outputs": [
        {
          "output_type": "stream",
          "name": "stdout",
          "text": [
            "Cloning into 'Maths_for_MachineLearning'...\n",
            "remote: Enumerating objects: 82, done.\u001b[K\n",
            "remote: Counting objects: 100% (15/15), done.\u001b[K\n",
            "remote: Compressing objects: 100% (15/15), done.\u001b[K\n",
            "remote: Total 82 (delta 3), reused 0 (delta 0), pack-reused 67\u001b[K\n",
            "Unpacking objects: 100% (82/82), 1.53 MiB | 5.35 MiB/s, done.\n"
          ]
        }
      ]
    },
    {
      "cell_type": "markdown",
      "source": [
        "# [Find the Flag](https://archive.ics.uci.edu/ml/datasets/Flags)\n",
        "\n",
        "This data file contains details of various nations and their flags. In this file the fields are separated by spaces (not commas). With this data we can try things like predicting the religion of a country from its size and the colours in its flag.\n",
        "\n",
        "![flag.png](https://upload.wikimedia.org/wikipedia/commons/thumb/8/8e/Proposed_flag_of_R%C3%A9union_%28VAR%29.svg/300px-Proposed_flag_of_R%C3%A9union_%28VAR%29.svg.png)\n",
        "\n",
        "\n",
        "\n",
        "We will explore which features are the best to use and the best way to create a decision tree to guess which continent this flag comes from."
      ],
      "metadata": {
        "id": "5NlNNuHyImHS"
      }
    },
    {
      "cell_type": "code",
      "source": [
        "import pandas as pd\n",
        "from sklearn.model_selection import train_test_split\n",
        "from sklearn.tree import DecisionTreeClassifier\n",
        "import matplotlib.pyplot as plt\n",
        "\n",
        "flags = pd.read_csv('/content/Maths_for_MachineLearning/flag.data.cvs', header=0)\n",
        "\n",
        "# See what the data looks like\n",
        "print(flags.columns)\n",
        "print(flags.head())\n",
        "\n",
        "\"\"\"\n",
        "column_names = flags.keys()\n",
        "print(column_names)\n",
        "\"\"\"\n",
        "# Add header to dataframe\n",
        "flags.columns=[\"Name\", \"Landmass\", \"Zone\", \"Area\", \"Population\", \"Language\", \"Religion\", \"Bars\", \"Stripes\", \"Colors\",\n",
        "               \"Red\", \"Green\",\t\"Blue\", \"Gold\", \"White\", \"Black\", \"Orange\", \"Mainhue\", \"Circles\", \"Crosses\",\t\"Saltires\",\n",
        "               \"Quarters\",\t\"Sunstars\",\t\"Crescent\",\t\"Triangle\",\t\"Icon\",\t\"Animate\", \"Text\", \"Topleft\",\t\"Botright\"]\n",
        "            \n",
        "flags.head()\n"
      ],
      "metadata": {
        "colab": {
          "base_uri": "https://localhost:8080/",
          "height": 646
        },
        "id": "rWCsCFJzQBLG",
        "outputId": "741ed82e-af3c-4b9d-d00c-3b4bd4e86a00"
      },
      "execution_count": 44,
      "outputs": [
        {
          "output_type": "stream",
          "name": "stdout",
          "text": [
            "Index(['Afghanistan', '5', '1', '648', '16', '10', '2', '0', '3', '5.1', '1.1',\n",
            "       '1.2', '0.1', '1.3', '1.4', '1.5', '0.2', 'green', '0.3', '0.4', '0.5',\n",
            "       '0.6', '1.6', '0.7', '0.8', '1.7', '0.9', '0.10', 'black', 'green.1'],\n",
            "      dtype='object')\n",
            "      Afghanistan  5  1   648  16  10  2  0  3  5.1  ...  0.5  0.6  1.6  0.7  \\\n",
            "0         Albania  3  1    29   3   6  6  0  0    3  ...    0    0    1    0   \n",
            "1         Algeria  4  1  2388  20   8  2  2  0    3  ...    0    0    1    1   \n",
            "2  American-Samoa  6  3     0   0   1  1  0  0    5  ...    0    0    0    0   \n",
            "3         Andorra  3  1     0   0   6  0  3  0    3  ...    0    0    0    0   \n",
            "4          Angola  4  2  1247   7  10  5  0  2    3  ...    0    0    1    0   \n",
            "\n",
            "   0.8  1.7  0.9 0.10  black  green.1  \n",
            "0    0    0    1    0    red      red  \n",
            "1    0    0    0    0  green    white  \n",
            "2    1    1    1    0   blue      red  \n",
            "3    0    0    0    0   blue      red  \n",
            "4    0    1    0    0    red    black  \n",
            "\n",
            "[5 rows x 30 columns]\n"
          ]
        },
        {
          "output_type": "execute_result",
          "data": {
            "text/plain": [
              "             Name  Landmass  Zone  Area  Population  Language  Religion  Bars  \\\n",
              "0         Albania         3     1    29           3         6         6     0   \n",
              "1         Algeria         4     1  2388          20         8         2     2   \n",
              "2  American-Samoa         6     3     0           0         1         1     0   \n",
              "3         Andorra         3     1     0           0         6         0     3   \n",
              "4          Angola         4     2  1247           7        10         5     0   \n",
              "\n",
              "   Stripes  Colors  ...  Saltires  Quarters  Sunstars  Crescent  Triangle  \\\n",
              "0        0       3  ...         0         0         1         0         0   \n",
              "1        0       3  ...         0         0         1         1         0   \n",
              "2        0       5  ...         0         0         0         0         1   \n",
              "3        0       3  ...         0         0         0         0         0   \n",
              "4        2       3  ...         0         0         1         0         0   \n",
              "\n",
              "   Icon  Animate Text  Topleft  Botright  \n",
              "0     0        1    0      red       red  \n",
              "1     0        0    0    green     white  \n",
              "2     1        1    0     blue       red  \n",
              "3     0        0    0     blue       red  \n",
              "4     1        0    0      red     black  \n",
              "\n",
              "[5 rows x 30 columns]"
            ],
            "text/html": [
              "\n",
              "  <div id=\"df-9ba77574-be01-4dd3-997c-763609f26487\">\n",
              "    <div class=\"colab-df-container\">\n",
              "      <div>\n",
              "<style scoped>\n",
              "    .dataframe tbody tr th:only-of-type {\n",
              "        vertical-align: middle;\n",
              "    }\n",
              "\n",
              "    .dataframe tbody tr th {\n",
              "        vertical-align: top;\n",
              "    }\n",
              "\n",
              "    .dataframe thead th {\n",
              "        text-align: right;\n",
              "    }\n",
              "</style>\n",
              "<table border=\"1\" class=\"dataframe\">\n",
              "  <thead>\n",
              "    <tr style=\"text-align: right;\">\n",
              "      <th></th>\n",
              "      <th>Name</th>\n",
              "      <th>Landmass</th>\n",
              "      <th>Zone</th>\n",
              "      <th>Area</th>\n",
              "      <th>Population</th>\n",
              "      <th>Language</th>\n",
              "      <th>Religion</th>\n",
              "      <th>Bars</th>\n",
              "      <th>Stripes</th>\n",
              "      <th>Colors</th>\n",
              "      <th>...</th>\n",
              "      <th>Saltires</th>\n",
              "      <th>Quarters</th>\n",
              "      <th>Sunstars</th>\n",
              "      <th>Crescent</th>\n",
              "      <th>Triangle</th>\n",
              "      <th>Icon</th>\n",
              "      <th>Animate</th>\n",
              "      <th>Text</th>\n",
              "      <th>Topleft</th>\n",
              "      <th>Botright</th>\n",
              "    </tr>\n",
              "  </thead>\n",
              "  <tbody>\n",
              "    <tr>\n",
              "      <th>0</th>\n",
              "      <td>Albania</td>\n",
              "      <td>3</td>\n",
              "      <td>1</td>\n",
              "      <td>29</td>\n",
              "      <td>3</td>\n",
              "      <td>6</td>\n",
              "      <td>6</td>\n",
              "      <td>0</td>\n",
              "      <td>0</td>\n",
              "      <td>3</td>\n",
              "      <td>...</td>\n",
              "      <td>0</td>\n",
              "      <td>0</td>\n",
              "      <td>1</td>\n",
              "      <td>0</td>\n",
              "      <td>0</td>\n",
              "      <td>0</td>\n",
              "      <td>1</td>\n",
              "      <td>0</td>\n",
              "      <td>red</td>\n",
              "      <td>red</td>\n",
              "    </tr>\n",
              "    <tr>\n",
              "      <th>1</th>\n",
              "      <td>Algeria</td>\n",
              "      <td>4</td>\n",
              "      <td>1</td>\n",
              "      <td>2388</td>\n",
              "      <td>20</td>\n",
              "      <td>8</td>\n",
              "      <td>2</td>\n",
              "      <td>2</td>\n",
              "      <td>0</td>\n",
              "      <td>3</td>\n",
              "      <td>...</td>\n",
              "      <td>0</td>\n",
              "      <td>0</td>\n",
              "      <td>1</td>\n",
              "      <td>1</td>\n",
              "      <td>0</td>\n",
              "      <td>0</td>\n",
              "      <td>0</td>\n",
              "      <td>0</td>\n",
              "      <td>green</td>\n",
              "      <td>white</td>\n",
              "    </tr>\n",
              "    <tr>\n",
              "      <th>2</th>\n",
              "      <td>American-Samoa</td>\n",
              "      <td>6</td>\n",
              "      <td>3</td>\n",
              "      <td>0</td>\n",
              "      <td>0</td>\n",
              "      <td>1</td>\n",
              "      <td>1</td>\n",
              "      <td>0</td>\n",
              "      <td>0</td>\n",
              "      <td>5</td>\n",
              "      <td>...</td>\n",
              "      <td>0</td>\n",
              "      <td>0</td>\n",
              "      <td>0</td>\n",
              "      <td>0</td>\n",
              "      <td>1</td>\n",
              "      <td>1</td>\n",
              "      <td>1</td>\n",
              "      <td>0</td>\n",
              "      <td>blue</td>\n",
              "      <td>red</td>\n",
              "    </tr>\n",
              "    <tr>\n",
              "      <th>3</th>\n",
              "      <td>Andorra</td>\n",
              "      <td>3</td>\n",
              "      <td>1</td>\n",
              "      <td>0</td>\n",
              "      <td>0</td>\n",
              "      <td>6</td>\n",
              "      <td>0</td>\n",
              "      <td>3</td>\n",
              "      <td>0</td>\n",
              "      <td>3</td>\n",
              "      <td>...</td>\n",
              "      <td>0</td>\n",
              "      <td>0</td>\n",
              "      <td>0</td>\n",
              "      <td>0</td>\n",
              "      <td>0</td>\n",
              "      <td>0</td>\n",
              "      <td>0</td>\n",
              "      <td>0</td>\n",
              "      <td>blue</td>\n",
              "      <td>red</td>\n",
              "    </tr>\n",
              "    <tr>\n",
              "      <th>4</th>\n",
              "      <td>Angola</td>\n",
              "      <td>4</td>\n",
              "      <td>2</td>\n",
              "      <td>1247</td>\n",
              "      <td>7</td>\n",
              "      <td>10</td>\n",
              "      <td>5</td>\n",
              "      <td>0</td>\n",
              "      <td>2</td>\n",
              "      <td>3</td>\n",
              "      <td>...</td>\n",
              "      <td>0</td>\n",
              "      <td>0</td>\n",
              "      <td>1</td>\n",
              "      <td>0</td>\n",
              "      <td>0</td>\n",
              "      <td>1</td>\n",
              "      <td>0</td>\n",
              "      <td>0</td>\n",
              "      <td>red</td>\n",
              "      <td>black</td>\n",
              "    </tr>\n",
              "  </tbody>\n",
              "</table>\n",
              "<p>5 rows × 30 columns</p>\n",
              "</div>\n",
              "      <button class=\"colab-df-convert\" onclick=\"convertToInteractive('df-9ba77574-be01-4dd3-997c-763609f26487')\"\n",
              "              title=\"Convert this dataframe to an interactive table.\"\n",
              "              style=\"display:none;\">\n",
              "        \n",
              "  <svg xmlns=\"http://www.w3.org/2000/svg\" height=\"24px\"viewBox=\"0 0 24 24\"\n",
              "       width=\"24px\">\n",
              "    <path d=\"M0 0h24v24H0V0z\" fill=\"none\"/>\n",
              "    <path d=\"M18.56 5.44l.94 2.06.94-2.06 2.06-.94-2.06-.94-.94-2.06-.94 2.06-2.06.94zm-11 1L8.5 8.5l.94-2.06 2.06-.94-2.06-.94L8.5 2.5l-.94 2.06-2.06.94zm10 10l.94 2.06.94-2.06 2.06-.94-2.06-.94-.94-2.06-.94 2.06-2.06.94z\"/><path d=\"M17.41 7.96l-1.37-1.37c-.4-.4-.92-.59-1.43-.59-.52 0-1.04.2-1.43.59L10.3 9.45l-7.72 7.72c-.78.78-.78 2.05 0 2.83L4 21.41c.39.39.9.59 1.41.59.51 0 1.02-.2 1.41-.59l7.78-7.78 2.81-2.81c.8-.78.8-2.07 0-2.86zM5.41 20L4 18.59l7.72-7.72 1.47 1.35L5.41 20z\"/>\n",
              "  </svg>\n",
              "      </button>\n",
              "      \n",
              "  <style>\n",
              "    .colab-df-container {\n",
              "      display:flex;\n",
              "      flex-wrap:wrap;\n",
              "      gap: 12px;\n",
              "    }\n",
              "\n",
              "    .colab-df-convert {\n",
              "      background-color: #E8F0FE;\n",
              "      border: none;\n",
              "      border-radius: 50%;\n",
              "      cursor: pointer;\n",
              "      display: none;\n",
              "      fill: #1967D2;\n",
              "      height: 32px;\n",
              "      padding: 0 0 0 0;\n",
              "      width: 32px;\n",
              "    }\n",
              "\n",
              "    .colab-df-convert:hover {\n",
              "      background-color: #E2EBFA;\n",
              "      box-shadow: 0px 1px 2px rgba(60, 64, 67, 0.3), 0px 1px 3px 1px rgba(60, 64, 67, 0.15);\n",
              "      fill: #174EA6;\n",
              "    }\n",
              "\n",
              "    [theme=dark] .colab-df-convert {\n",
              "      background-color: #3B4455;\n",
              "      fill: #D2E3FC;\n",
              "    }\n",
              "\n",
              "    [theme=dark] .colab-df-convert:hover {\n",
              "      background-color: #434B5C;\n",
              "      box-shadow: 0px 1px 3px 1px rgba(0, 0, 0, 0.15);\n",
              "      filter: drop-shadow(0px 1px 2px rgba(0, 0, 0, 0.3));\n",
              "      fill: #FFFFFF;\n",
              "    }\n",
              "  </style>\n",
              "\n",
              "      <script>\n",
              "        const buttonEl =\n",
              "          document.querySelector('#df-9ba77574-be01-4dd3-997c-763609f26487 button.colab-df-convert');\n",
              "        buttonEl.style.display =\n",
              "          google.colab.kernel.accessAllowed ? 'block' : 'none';\n",
              "\n",
              "        async function convertToInteractive(key) {\n",
              "          const element = document.querySelector('#df-9ba77574-be01-4dd3-997c-763609f26487');\n",
              "          const dataTable =\n",
              "            await google.colab.kernel.invokeFunction('convertToInteractive',\n",
              "                                                     [key], {});\n",
              "          if (!dataTable) return;\n",
              "\n",
              "          const docLinkHtml = 'Like what you see? Visit the ' +\n",
              "            '<a target=\"_blank\" href=https://colab.research.google.com/notebooks/data_table.ipynb>data table notebook</a>'\n",
              "            + ' to learn more about interactive tables.';\n",
              "          element.innerHTML = '';\n",
              "          dataTable['output_type'] = 'display_data';\n",
              "          await google.colab.output.renderOutput(dataTable, element);\n",
              "          const docLink = document.createElement('div');\n",
              "          docLink.innerHTML = docLinkHtml;\n",
              "          element.appendChild(docLink);\n",
              "        }\n",
              "      </script>\n",
              "    </div>\n",
              "  </div>\n",
              "  "
            ]
          },
          "metadata": {},
          "execution_count": 44
        }
      ]
    },
    {
      "cell_type": "code",
      "source": [
        "\n",
        "#Determine Landmass a country is on\n",
        "labels = flags[['Landmass']]\n",
        "\n",
        "# Choose RANDOMLY which columns will help our decision tree correctly classify those labels\n",
        "data = flags[[\"Red\", \"Green\", \"Blue\", \"Gold\", \"White\", \"Black\", \"Orange\"]]\n",
        "\n",
        "# Split DataFrames into a training set and test set\n",
        "train_data, test_data, train_labels, test_labels = train_test_split(data, labels, random_state=1)\n",
        "\n",
        "# Create and fit decision tree\n",
        "tree = DecisionTreeClassifier(random_state=1)\n",
        "tree.fit(train_data, train_labels)\n",
        "\n",
        "# Score of RANDOM feature selection\n",
        "score = tree.score(test_data, test_labels)\n",
        "print(\"Accuracy:\", score)"
      ],
      "metadata": {
        "colab": {
          "base_uri": "https://localhost:8080/"
        },
        "id": "imfiJb27-MHU",
        "outputId": "21ba7e2d-bae8-4be7-d19f-2cc5a35c53a2"
      },
      "execution_count": 45,
      "outputs": [
        {
          "output_type": "stream",
          "name": "stdout",
          "text": [
            "Accuracy: 0.32653061224489793\n"
          ]
        }
      ]
    },
    {
      "cell_type": "markdown",
      "source": [
        "# Tuning the Model\n",
        "Now we wil see if we can prune the tree to make it better"
      ],
      "metadata": {
        "id": "7v08Jw0u_G9q"
      }
    },
    {
      "cell_type": "code",
      "source": [
        "#Create, train, and test the tree at different depths\n",
        "scores = []\n",
        "for i in range(1,21):\n",
        "  tree = DecisionTreeClassifier(random_state = 1, max_depth = i)\n",
        "  #Fit the tree\n",
        "  tree.fit(train_data,train_labels)\n",
        "  #Print the tree's score\n",
        "  scores.append(tree.score(test_data, test_labels))\n",
        "  \n",
        "plt.plot(range(1,21), scores)\n",
        "plt.show()\n"
      ],
      "metadata": {
        "colab": {
          "base_uri": "https://localhost:8080/",
          "height": 430
        },
        "id": "VLl8ll4x_R_P",
        "outputId": "314f9c57-bc93-4b00-a32e-e11b9a1fe1db"
      },
      "execution_count": 46,
      "outputs": [
        {
          "output_type": "display_data",
          "data": {
            "text/plain": [
              "<Figure size 640x480 with 1 Axes>"
            ],
            "image/png": "[encoded data removed]"
          },
          "metadata": {}
        }
      ]
    },
    {
      "cell_type": "markdown",
      "source": [
        "It seems like the depth of the tree isn’t really having an impact on its performance. This might be a good indication that we’re not using enough features. So we add all the features that have to do with shapes to our data above."
      ],
      "metadata": {
        "id": "I9ZCoBZ6B_-x"
      }
    },
    {
      "cell_type": "code",
      "source": [
        "#Now we create trees at different depths with all features:\n",
        "\n",
        "#Determine Landmass a country is on\n",
        "labels = flags[['Landmass']]\n",
        "\n",
        "#Add all the features that have to do with shapes to our data\n",
        "data = flags[[\"Red\", \"Green\", \"Blue\", \"Gold\",\n",
        " \"White\", \"Black\", \"Orange\",\n",
        " \"Circles\",\n",
        "\"Crosses\",\"Saltires\",\"Quarters\",\"Sunstars\",\n",
        "\"Crescent\",\"Triangle\"]]\n",
        "\n",
        "# Split DataFrames into a training set and test set\n",
        "train_data, test_data, train_labels, test_labels = train_test_split(data, labels, random_state=1)\n",
        "\n",
        "# Create and fit decision tree\n",
        "tree = DecisionTreeClassifier(random_state=1)\n",
        "tree.fit(train_data, train_labels)\n",
        "\n",
        "# Score of RANDOM feature selection\n",
        "score = tree.score(test_data, test_labels)\n",
        "print(\"Accuracy:\", score)\n",
        "\n",
        "#Create, train, and test the tree at different depths\n",
        "scores = []\n",
        "for i in range(1,21):\n",
        "  tree = DecisionTreeClassifier(random_state = 1, max_depth = i)\n",
        "  #Fit the tree\n",
        "  tree.fit(train_data,train_labels)\n",
        "  #Print the tree's score\n",
        "  scores.append(tree.score(test_data, test_labels))\n",
        "  \n",
        "plt.plot(range(1,21), scores)\n",
        "plt.show()"
      ],
      "metadata": {
        "colab": {
          "base_uri": "https://localhost:8080/",
          "height": 447
        },
        "id": "ssHhZNtgDlHS",
        "outputId": "6fe334d1-791c-4940-e8eb-a0c37be3ea44"
      },
      "execution_count": 47,
      "outputs": [
        {
          "output_type": "stream",
          "name": "stdout",
          "text": [
            "Accuracy: 0.40816326530612246\n"
          ]
        },
        {
          "output_type": "display_data",
          "data": {
            "text/plain": [
              "<Figure size 640x480 with 1 Axes>"
            ],
            "image/png": "[encoded data removed]"
          },
          "metadata": {}
        }
      ]
    },
    {
      "cell_type": "markdown",
      "source": [
        "If the tree is too short, we’re underfitting and not accurately representing the training data. If the tree is too big, we’re getting too specific and relying too heavily on the training data.\n"
      ],
      "metadata": {
        "id": "P7g_AG4sEOLK"
      }
    },
    {
      "cell_type": "markdown",
      "source": [
        "#[Income Classification using Random Forest](https://archive.ics.uci.edu/ml/datasets/census%20income)\n",
        "\n",
        "By using this census data with a random forest, we will try to predict whether or not a person makes more than $50,000."
      ],
      "metadata": {
        "id": "TFtdF5j2HFg5"
      }
    },
    {
      "cell_type": "code",
      "source": [
        "def warn(*args, **kwargs):\n",
        "    pass\n",
        "import warnings\n",
        "warnings.warn = warn\n",
        "\n",
        "import pandas as pd\n",
        "from sklearn.model_selection import train_test_split\n",
        "from sklearn import tree\n",
        "from sklearn.ensemble import RandomForestClassifier"
      ],
      "metadata": {
        "id": "fF2j9C9YHjS1"
      },
      "execution_count": null,
      "outputs": []
    }
  ]
}