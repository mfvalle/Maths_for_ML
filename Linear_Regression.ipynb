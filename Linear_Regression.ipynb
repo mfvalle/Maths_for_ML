{
  "nbformat": 4,
  "nbformat_minor": 0,
  "metadata": {
    "colab": {
      "provenance": [],
      "authorship_tag": "ABX9TyMul9zdCQG6+SBCIl2fb52s",
      "include_colab_link": true
    },
    "kernelspec": {
      "name": "python3",
      "display_name": "Python 3"
    },
    "language_info": {
      "name": "python"
    }
  },
  "cells": [
    {
      "cell_type": "markdown",
      "metadata": {
        "id": "view-in-github",
        "colab_type": "text"
      },
      "source": [
        "<a href=\"https://colab.research.google.com/github/mfvalle/Maths_for_MachineLearning/blob/main/Linear_Regression.ipynb\" target=\"_parent\"><img src=\"https://colab.research.google.com/assets/colab-badge.svg\" alt=\"Open In Colab\"/></a>"
      ]
    },
    {
      "cell_type": "markdown",
      "source": [
        "# [Honey Production in US (2010-2021)](https://www.kaggle.com/datasets/mohitpoudel/honey-production-in-us-20102021?resource=download)\n",
        "\n",
        "This dataset provides insight into honey production, demand, and supply across different states of Honey is the natural product made by bees—one of our planet's most important species. Honey bees visit millions of blossoms in their lifetimes, making pollination of plants possible and collecting nectar to bring back to the hive to produce honey.\n",
        "\n",
        "We will create a model to investigate the decline of the honeybee population for various reasons and how the trends of the past predict the future for the honeybees\n"
      ],
      "metadata": {
        "id": "gXIRw70Nk6RI"
      }
    },
    {
      "cell_type": "code",
      "source": [
        "!git clone https://github.com/mfvalle/Maths_for_MachineLearning.git"
      ],
      "metadata": {
        "colab": {
          "base_uri": "https://localhost:8080/"
        },
        "id": "hexuCON_j7CS",
        "outputId": "9b81cd2c-b503-4eaf-8ca0-2afa27dea3ad"
      },
      "execution_count": 1,
      "outputs": [
        {
          "output_type": "stream",
          "name": "stdout",
          "text": [
            "Cloning into 'Maths_for_MachineLearning'...\n",
            "remote: Enumerating objects: 57, done.\u001b[K\n",
            "remote: Counting objects: 100% (57/57), done.\u001b[K\n",
            "remote: Compressing objects: 100% (54/54), done.\u001b[K\n",
            "remote: Total 57 (delta 21), reused 0 (delta 0), pack-reused 0\u001b[K\n",
            "Unpacking objects: 100% (57/57), 1.30 MiB | 2.08 MiB/s, done.\n"
          ]
        }
      ]
    },
    {
      "cell_type": "code",
      "execution_count": null,
      "metadata": {
        "id": "NkZUdEzXgFFt"
      },
      "outputs": [],
      "source": [
        "import pandas as pd\n",
        "import matplotlib.pyplot as plt\n",
        "import numpy as np\n",
        "from sklearn import linear_model\n",
        "#from sklearn.linear_model import LinearRegression\n",
        "\n",
        "df = pd.read_csv(\"/content/Maths_for_MachineLearning/US_honey_production_dataset.csv\")"
      ]
    },
    {
      "cell_type": "code",
      "source": [
        "#get a sense of how this DataFrame is structured\n",
        "df.head()"
      ],
      "metadata": {
        "colab": {
          "base_uri": "https://localhost:8080/",
          "height": 287
        },
        "id": "kIKWXIftkmO5",
        "outputId": "b69f015d-8f32-4827-c6a5-7f36c464596f"
      },
      "execution_count": null,
      "outputs": [
        {
          "output_type": "execute_result",
          "data": {
            "text/plain": [
              "   Unnamed: 0       state  colony_number  yield_per_colony  productions  \\\n",
              "0           0     Alabama           9000                54        73000   \n",
              "1           1     Arizona          24000                77       665000   \n",
              "2           2    Arkansas          25000                60       360000   \n",
              "3           3  California         410000                67      6318000   \n",
              "4           4    Colorado          34000                56       533000   \n",
              "\n",
              "    stocks  average_price  value_of_prod  year  \n",
              "0    73000          240.0        1166000  2010  \n",
              "1   665000          152.0        2809000  2010  \n",
              "2   360000          147.0        2205000  2010  \n",
              "3  6318000          155.0       42579000  2010  \n",
              "4   533000          152.0        2894000  2010  "
            ],
            "text/html": [
              "\n",
              "  <div id=\"df-c0030e1d-96f9-4b57-b888-76ef658cfb52\">\n",
              "    <div class=\"colab-df-container\">\n",
              "      <div>\n",
              "<style scoped>\n",
              "    .dataframe tbody tr th:only-of-type {\n",
              "        vertical-align: middle;\n",
              "    }\n",
              "\n",
              "    .dataframe tbody tr th {\n",
              "        vertical-align: top;\n",
              "    }\n",
              "\n",
              "    .dataframe thead th {\n",
              "        text-align: right;\n",
              "    }\n",
              "</style>\n",
              "<table border=\"1\" class=\"dataframe\">\n",
              "  <thead>\n",
              "    <tr style=\"text-align: right;\">\n",
              "      <th></th>\n",
              "      <th>Unnamed: 0</th>\n",
              "      <th>state</th>\n",
              "      <th>colony_number</th>\n",
              "      <th>yield_per_colony</th>\n",
              "      <th>productions</th>\n",
              "      <th>stocks</th>\n",
              "      <th>average_price</th>\n",
              "      <th>value_of_prod</th>\n",
              "      <th>year</th>\n",
              "    </tr>\n",
              "  </thead>\n",
              "  <tbody>\n",
              "    <tr>\n",
              "      <th>0</th>\n",
              "      <td>0</td>\n",
              "      <td>Alabama</td>\n",
              "      <td>9000</td>\n",
              "      <td>54</td>\n",
              "      <td>73000</td>\n",
              "      <td>73000</td>\n",
              "      <td>240.0</td>\n",
              "      <td>1166000</td>\n",
              "      <td>2010</td>\n",
              "    </tr>\n",
              "    <tr>\n",
              "      <th>1</th>\n",
              "      <td>1</td>\n",
              "      <td>Arizona</td>\n",
              "      <td>24000</td>\n",
              "      <td>77</td>\n",
              "      <td>665000</td>\n",
              "      <td>665000</td>\n",
              "      <td>152.0</td>\n",
              "      <td>2809000</td>\n",
              "      <td>2010</td>\n",
              "    </tr>\n",
              "    <tr>\n",
              "      <th>2</th>\n",
              "      <td>2</td>\n",
              "      <td>Arkansas</td>\n",
              "      <td>25000</td>\n",
              "      <td>60</td>\n",
              "      <td>360000</td>\n",
              "      <td>360000</td>\n",
              "      <td>147.0</td>\n",
              "      <td>2205000</td>\n",
              "      <td>2010</td>\n",
              "    </tr>\n",
              "    <tr>\n",
              "      <th>3</th>\n",
              "      <td>3</td>\n",
              "      <td>California</td>\n",
              "      <td>410000</td>\n",
              "      <td>67</td>\n",
              "      <td>6318000</td>\n",
              "      <td>6318000</td>\n",
              "      <td>155.0</td>\n",
              "      <td>42579000</td>\n",
              "      <td>2010</td>\n",
              "    </tr>\n",
              "    <tr>\n",
              "      <th>4</th>\n",
              "      <td>4</td>\n",
              "      <td>Colorado</td>\n",
              "      <td>34000</td>\n",
              "      <td>56</td>\n",
              "      <td>533000</td>\n",
              "      <td>533000</td>\n",
              "      <td>152.0</td>\n",
              "      <td>2894000</td>\n",
              "      <td>2010</td>\n",
              "    </tr>\n",
              "  </tbody>\n",
              "</table>\n",
              "</div>\n",
              "      <button class=\"colab-df-convert\" onclick=\"convertToInteractive('df-c0030e1d-96f9-4b57-b888-76ef658cfb52')\"\n",
              "              title=\"Convert this dataframe to an interactive table.\"\n",
              "              style=\"display:none;\">\n",
              "        \n",
              "  <svg xmlns=\"http://www.w3.org/2000/svg\" height=\"24px\"viewBox=\"0 0 24 24\"\n",
              "       width=\"24px\">\n",
              "    <path d=\"M0 0h24v24H0V0z\" fill=\"none\"/>\n",
              "    <path d=\"M18.56 5.44l.94 2.06.94-2.06 2.06-.94-2.06-.94-.94-2.06-.94 2.06-2.06.94zm-11 1L8.5 8.5l.94-2.06 2.06-.94-2.06-.94L8.5 2.5l-.94 2.06-2.06.94zm10 10l.94 2.06.94-2.06 2.06-.94-2.06-.94-.94-2.06-.94 2.06-2.06.94z\"/><path d=\"M17.41 7.96l-1.37-1.37c-.4-.4-.92-.59-1.43-.59-.52 0-1.04.2-1.43.59L10.3 9.45l-7.72 7.72c-.78.78-.78 2.05 0 2.83L4 21.41c.39.39.9.59 1.41.59.51 0 1.02-.2 1.41-.59l7.78-7.78 2.81-2.81c.8-.78.8-2.07 0-2.86zM5.41 20L4 18.59l7.72-7.72 1.47 1.35L5.41 20z\"/>\n",
              "  </svg>\n",
              "      </button>\n",
              "      \n",
              "  <style>\n",
              "    .colab-df-container {\n",
              "      display:flex;\n",
              "      flex-wrap:wrap;\n",
              "      gap: 12px;\n",
              "    }\n",
              "\n",
              "    .colab-df-convert {\n",
              "      background-color: #E8F0FE;\n",
              "      border: none;\n",
              "      border-radius: 50%;\n",
              "      cursor: pointer;\n",
              "      display: none;\n",
              "      fill: #1967D2;\n",
              "      height: 32px;\n",
              "      padding: 0 0 0 0;\n",
              "      width: 32px;\n",
              "    }\n",
              "\n",
              "    .colab-df-convert:hover {\n",
              "      background-color: #E2EBFA;\n",
              "      box-shadow: 0px 1px 2px rgba(60, 64, 67, 0.3), 0px 1px 3px 1px rgba(60, 64, 67, 0.15);\n",
              "      fill: #174EA6;\n",
              "    }\n",
              "\n",
              "    [theme=dark] .colab-df-convert {\n",
              "      background-color: #3B4455;\n",
              "      fill: #D2E3FC;\n",
              "    }\n",
              "\n",
              "    [theme=dark] .colab-df-convert:hover {\n",
              "      background-color: #434B5C;\n",
              "      box-shadow: 0px 1px 3px 1px rgba(0, 0, 0, 0.15);\n",
              "      filter: drop-shadow(0px 1px 2px rgba(0, 0, 0, 0.3));\n",
              "      fill: #FFFFFF;\n",
              "    }\n",
              "  </style>\n",
              "\n",
              "      <script>\n",
              "        const buttonEl =\n",
              "          document.querySelector('#df-c0030e1d-96f9-4b57-b888-76ef658cfb52 button.colab-df-convert');\n",
              "        buttonEl.style.display =\n",
              "          google.colab.kernel.accessAllowed ? 'block' : 'none';\n",
              "\n",
              "        async function convertToInteractive(key) {\n",
              "          const element = document.querySelector('#df-c0030e1d-96f9-4b57-b888-76ef658cfb52');\n",
              "          const dataTable =\n",
              "            await google.colab.kernel.invokeFunction('convertToInteractive',\n",
              "                                                     [key], {});\n",
              "          if (!dataTable) return;\n",
              "\n",
              "          const docLinkHtml = 'Like what you see? Visit the ' +\n",
              "            '<a target=\"_blank\" href=https://colab.research.google.com/notebooks/data_table.ipynb>data table notebook</a>'\n",
              "            + ' to learn more about interactive tables.';\n",
              "          element.innerHTML = '';\n",
              "          dataTable['output_type'] = 'display_data';\n",
              "          await google.colab.output.renderOutput(dataTable, element);\n",
              "          const docLink = document.createElement('div');\n",
              "          docLink.innerHTML = docLinkHtml;\n",
              "          element.appendChild(docLink);\n",
              "        }\n",
              "      </script>\n",
              "    </div>\n",
              "  </div>\n",
              "  "
            ]
          },
          "metadata": {},
          "execution_count": 3
        }
      ]
    },
    {
      "cell_type": "code",
      "source": [
        "#Now we store the mean of totalprod (productions column) per year by grouping the year column\n",
        "prod_per_year = df.groupby(\"year\").productions.mean().reset_index()\n",
        "\n",
        "# Create years and totalprod columns (to treat them as vectors of inputs and outputs), and reshape into the right format\n",
        "X = prod_per_year[\"year\"].values.reshape(-1, 1)\n",
        "y = prod_per_year[\"productions\"].values.reshape(-1, 1)\n",
        "\n",
        "# Display the scatterplot\n",
        "plt.scatter(X, y)\n",
        "\n",
        "regr = linear_model.LinearRegression()\n",
        "regr.fit(X, y)\n",
        "\n",
        "# Print out the slope of the line and the intercept of the line\n",
        "print(regr.coef_)\n",
        "print(regr.intercept_)\n",
        "\n",
        "# Predict the values\n",
        "future_predict = regr.predict(X)\n",
        "\n",
        "# Plot the line on top of the scatterplot\n",
        "plt.plot(X, future_predict, color='red')\n",
        "plt.show()\n"
      ],
      "metadata": {
        "colab": {
          "base_uri": "https://localhost:8080/",
          "height": 480
        },
        "id": "WePtqk8rmCrO",
        "outputId": "7f0e8f29-2a5e-463d-d9ac-2683f69284ab"
      },
      "execution_count": null,
      "outputs": [
        {
          "output_type": "stream",
          "name": "stdout",
          "text": [
            "[[-20309.48090371]]\n",
            "[41846658.12040523]\n"
          ]
        },
        {
          "output_type": "display_data",
          "data": {
            "text/plain": [
              "<Figure size 640x480 with 1 Axes>"
            ],
            "image/png": "[encoded data removed]"
          },
          "metadata": {}
        }
      ]
    },
    {
      "cell_type": "markdown",
      "source": [
        "It looks like the production of honey has been in decline, according to this linear model. Let’s predict what the year 2050 may look like in terms of honey production. Our known dataset stops at the year 2013, so let’s create a NumPy array that is the range from 2013 to 2050."
      ],
      "metadata": {
        "id": "CgUB9D4u-LCB"
      }
    },
    {
      "cell_type": "code",
      "source": [
        "# Define the range for future predictions\n",
        "nums = np.array(range(2013, 2051))\n",
        "# Reshape it for scikit-learn\n",
        "X_future = nums.reshape(-1, 1)\n",
        "\n",
        "# Predict the values for X_future\n",
        "future_predict = regr.predict(X_future)\n",
        "\n",
        "# Plot the line on top of the scatterplot\n",
        "plt.plot(X_future, future_predict, color='red')\n",
        "\n",
        "plt.show()"
      ],
      "metadata": {
        "colab": {
          "base_uri": "https://localhost:8080/",
          "height": 445
        },
        "id": "RcpmLGbg-JYi",
        "outputId": "23469121-2fdf-43b8-a115-67d0bd861855"
      },
      "execution_count": null,
      "outputs": [
        {
          "output_type": "display_data",
          "data": {
            "text/plain": [
              "<Figure size 640x480 with 1 Axes>"
            ],
            "image/png": "[encoded data removed]"
          },
          "metadata": {}
        }
      ]
    },
    {
      "cell_type": "markdown",
      "source": [
        "#[StreetEasy Dataset](https://raw.githubusercontent.com/Codecademy/datasets/master/streeteasy/streeteasy.csv)\n",
        "\n",
        "This DataSet contains information about apartments in New York\n"
      ],
      "metadata": {
        "id": "WVvBCWudYUSp"
      }
    },
    {
      "cell_type": "code",
      "source": [
        "import matplotlib.pyplot as plt\n",
        "import numpy as np\n",
        "import pandas as pd\n",
        "from mpl_toolkits.mplot3d import Axes3D\n",
        "from sklearn.linear_model import LinearRegression\n",
        "from sklearn.model_selection import train_test_split\n",
        "streeteasy = pd.read_csv(\"/content/Maths_for_MachineLearning/streeteasy.csv\")\n",
        "\"\"\"\n",
        "\n",
        "df = pd.DataFrame(streeteasy)\n",
        "\n",
        "x = df[['size_sqft','building_age_yrs']]\n",
        "y = df[['rent']]\n",
        "\n",
        "x_train, x_test, y_train, y_test = train_test_split(x, y, train_size = 0.8, test_size = 0.2, random_state=6)\n",
        "\n",
        "ols = LinearRegression()\n",
        "ols.fit(x_train, y_train)\n",
        "\n",
        "\n",
        "# Plot the figure\n",
        "\n",
        "fig = plt.figure(1, figsize=(6, 4))\n",
        "plt.clf()\n",
        "\n",
        "elev = 43.5\n",
        "azim = -110\n",
        "\n",
        "ax = Axes3D(fig, elev=elev, azim=azim)\n",
        "\n",
        "ax.scatter(x_train[['size_sqft']], x_train[['building_age_yrs']], y_train, c='k', marker='+')\n",
        "\n",
        "ax.plot_surface(np.array([[0, 0], [4500, 4500]]), np.array([[0, 140], [0, 140]]), ols.predict(np.array([[0, 0, 4500, 4500], [0, 140, 0, 140]]).T).reshape((2, 2)), alpha=.7)\n",
        "\n",
        "ax.set_xlabel('Size (ft$^2$)')\n",
        "ax.set_ylabel('Building Age (Years)')\n",
        "ax.set_zlabel('Rent ($)')\n",
        "\n",
        "ax.w_xaxis.set_ticklabels([])\n",
        "ax.w_yaxis.set_ticklabels([])\n",
        "ax.w_zaxis.set_ticklabels([])\n",
        "\"\"\"\n",
        "\n",
        "\"\"\"\n",
        "# Plot the figure\n",
        "fig = plt.figure(1, figsize=(6, 4))\n",
        "plt.clf()\n",
        "\n",
        "elev = 43.5\n",
        "azim = -110\n",
        "\n",
        "ax = Axes3D(fig, elev=elev, azim=azim)\n",
        "\n",
        "ax.scatter(x_train[['size_sqft']], x_train[['building_age_yrs']], y_train, c='k', marker='+')\n",
        "\n",
        "x_surf = np.array([[0, 0], [4500, 4500]])\n",
        "y_surf = np.array([[0, 140], [0, 140]])\n",
        "z_surf = ols.predict(np.array([[0, 0, 4500, 4500], [0, 140, 0, 140]]).T).reshape((2, 2))\n",
        "ax.plot_surface(x_surf, y_surf, z_surf, alpha=.7)\n",
        "\n",
        "ax.set_xlabel('Size (ft$^2$)')\n",
        "ax.set_ylabel('Building Age (Years)')\n",
        "ax.set_zlabel('Rent ($)')\n",
        "\n",
        "ax.xaxis.set_ticklabels([])\n",
        "ax.yaxis.set_ticklabels([])\n",
        "ax.zaxis.set_ticklabels([])\n",
        "\n",
        "plt.show()\n",
        "\"\"\"\n",
        "\n",
        "\n",
        "\n",
        "import pandas as pd\n",
        "from sklearn.model_selection import train_test_split\n",
        "\n",
        "# import train_test_split\n",
        "\n",
        "streeteasy = pd.read_csv(\"/content/Maths_for_MachineLearning/manhattan.csv\")\n",
        "\n",
        "df = pd.DataFrame(streeteasy)\n",
        "\n",
        "# select features from data\n",
        "x = df[['bedrooms', 'bathrooms', 'size_sqft', 'min_to_subway', 'floor', 'building_age_yrs', 'no_fee', 'has_roofdeck', 'has_washer_dryer', 'has_doorman', 'has_elevator', 'has_dishwasher', 'has_patio', 'has_gym']]\n",
        " \n",
        "y = df[['rent']]\n",
        "\n",
        "# split data\n",
        "(x_train, x_test, y_train, y_test) = train_test_split(x, y, train_size = 0.8, test_size = 0.2, random_state=6 )\n",
        "\n",
        "# look at the shapes to see we got the proportion we wanted\n",
        "print(x_train.shape)\n",
        "print(x_test.shape)\n",
        " \n",
        "print(y_train.shape)\n",
        "print(y_test.shape)\n",
        "\n"
      ],
      "metadata": {
        "colab": {
          "base_uri": "https://localhost:8080/"
        },
        "id": "KL5nVqmCYUu8",
        "outputId": "cc75b3ee-46fa-4293-e3a8-46170347b414"
      },
      "execution_count": 3,
      "outputs": [
        {
          "output_type": "stream",
          "name": "stdout",
          "text": [
            "(2831, 14)\n",
            "(708, 14)\n",
            "(2831, 1)\n",
            "(708, 1)\n"
          ]
        }
      ]
    },
    {
      "cell_type": "markdown",
      "source": [
        "[Sonny’s apartment in Greenpoint, Brooklyn](https://streeteasy.com/rental/2177438)\n"
      ],
      "metadata": {
        "id": "8yUN8mJej7si"
      }
    }
  ]
}